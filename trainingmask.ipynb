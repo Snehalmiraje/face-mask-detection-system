{
 "cells": [
  {
   "cell_type": "code",
   "execution_count": 1,
   "metadata": {
    "executionInfo": {
     "elapsed": 4359,
     "status": "ok",
     "timestamp": 1614398972538,
     "user": {
      "displayName": "french fries",
      "photoUrl": "",
      "userId": "08280250028595924960"
     },
     "user_tz": -330
    },
    "id": "LtzOTJWsm7PD"
   },
   "outputs": [
    {
     "name": "stderr",
     "output_type": "stream",
     "text": [
      "Using TensorFlow backend.\n"
     ]
    }
   ],
   "source": [
    "from keras.optimizers import RMSprop\n",
    "from keras.preprocessing.image import ImageDataGenerator\n",
    "import cv2\n",
    "from keras.models import Sequential\n",
    "from keras.layers import Conv2D, Input, ZeroPadding2D, BatchNormalization, Activation, MaxPooling2D, Flatten, Dense,Dropout\n",
    "from keras.models import Model, load_model\n",
    "from keras.callbacks import TensorBoard, ModelCheckpoint\n",
    "from sklearn.model_selection import train_test_split\n",
    "from sklearn.metrics import f1_score\n",
    "from sklearn.utils import shuffle\n",
    "import imutils\n",
    "import numpy as np\n"
   ]
  },
  {
   "cell_type": "markdown",
   "metadata": {
    "colab": {
     "base_uri": "https://localhost:8080/"
    },
    "executionInfo": {
     "elapsed": 155885,
     "status": "ok",
     "timestamp": 1614398948226,
     "user": {
      "displayName": "french fries",
      "photoUrl": "",
      "userId": "08280250028595924960"
     },
     "user_tz": -330
    },
    "id": "lkncnfJJq8SG",
    "outputId": "6ad49b8a-9d4e-450b-b584-a056bd9d1340"
   },
   "source": [
    "from google.colab import drive\n",
    "drive.mount('/content/MyDrive')\n"
   ]
  },
  {
   "cell_type": "code",
   "execution_count": 2,
   "metadata": {
    "id": "Cu2ysEf-nQxW"
   },
   "outputs": [],
   "source": [
    "# Used sequntial model \n",
    "model =Sequential([\n",
    "    Conv2D(100, (3,3), activation='relu', input_shape=(150, 150, 3)), # 100 filters , dimensions  ,\n",
    "    MaxPooling2D(2,2),\n",
    "    \n",
    "    Conv2D(100, (3,3), activation='relu'),\n",
    "    MaxPooling2D(2,2),\n",
    "    \n",
    "    Flatten(),\n",
    "    Dropout(0.5),\n",
    "    Dense(50, activation='relu'),\n",
    "    Dense(2, activation='softmax')\n",
    "])\n",
    "model.compile(optimizer='adam', loss='binary_crossentropy', metrics=['acc'])\n"
   ]
  },
  {
   "cell_type": "code",
   "execution_count": 3,
   "metadata": {
    "id": "SkzJCiZ9nUlr"
   },
   "outputs": [],
   "source": [
    "TRAINING_DIR = \"C:\\\\Users\\\\snehal\\\\Desktop\\\\face mask code\\\\train\\\\train\"\n",
    "train_datagen = ImageDataGenerator(rescale=1.0/255,\n",
    "                                   rotation_range=40,\n",
    "                                   width_shift_range=0.2,\n",
    "                                   height_shift_range=0.2,\n",
    "                                   shear_range=0.2,\n",
    "                                   zoom_range=0.2,\n",
    "                                   horizontal_flip=True,\n",
    "                                   fill_mode='nearest')"
   ]
  },
  {
   "cell_type": "code",
   "execution_count": 4,
   "metadata": {
    "colab": {
     "base_uri": "https://localhost:8080/"
    },
    "executionInfo": {
     "elapsed": 36609,
     "status": "ok",
     "timestamp": 1614320047280,
     "user": {
      "displayName": "french fries",
      "photoUrl": "",
      "userId": "08280250028595924960"
     },
     "user_tz": -330
    },
    "id": "2m9DbpzZnUnh",
    "outputId": "4ca63391-795b-495d-b353-f7cc44173d11"
   },
   "outputs": [
    {
     "name": "stdout",
     "output_type": "stream",
     "text": [
      "Found 1314 images belonging to 2 classes.\n"
     ]
    }
   ],
   "source": [
    "train_generator = train_datagen.flow_from_directory(TRAINING_DIR, \n",
    "                                                    batch_size=10, \n",
    "                                                    target_size=(150, 150))"
   ]
  },
  {
   "cell_type": "code",
   "execution_count": 5,
   "metadata": {
    "colab": {
     "background_save": true,
     "base_uri": "https://localhost:8080/"
    },
    "id": "cvXcbQZdnUrZ",
    "outputId": "08d4671b-c4e7-474b-a5e7-4f14b8bdf559"
   },
   "outputs": [
    {
     "name": "stdout",
     "output_type": "stream",
     "text": [
      "Found 558 images belonging to 2 classes.\n",
      "Epoch 1/10\n",
      "132/132 [==============================] - 114s 864ms/step - loss: 7.6770 - acc: 0.4985 - val_loss: 13.4567 - val_acc: 0.1738\n",
      "Epoch 2/10\n",
      "132/132 [==============================] - 111s 844ms/step - loss: 7.6952 - acc: 0.5008 - val_loss: 13.4567 - val_acc: 0.1738\n",
      "Epoch 3/10\n",
      "132/132 [==============================] - 113s 857ms/step - loss: 7.7126 - acc: 0.5008 - val_loss: 15.3791 - val_acc: 0.1738\n",
      "Epoch 4/10\n",
      "132/132 [==============================] - 112s 847ms/step - loss: 7.6779 - acc: 0.5008 - val_loss: 13.4567 - val_acc: 0.1738\n",
      "Epoch 5/10\n",
      "132/132 [==============================] - 111s 845ms/step - loss: 7.6606 - acc: 0.5008 - val_loss: 11.5343 - val_acc: 0.1738\n",
      "Epoch 6/10\n",
      "132/132 [==============================] - 112s 846ms/step - loss: 7.6952 - acc: 0.5008 - val_loss: 15.3791 - val_acc: 0.1738\n",
      "Epoch 7/10\n",
      "132/132 [==============================] - 113s 857ms/step - loss: 7.6779 - acc: 0.5008 - val_loss: 15.3791 - val_acc: 0.1738\n",
      "Epoch 8/10\n",
      "132/132 [==============================] - 116s 878ms/step - loss: 7.6606 - acc: 0.5008 - val_loss: 15.3791 - val_acc: 0.1738\n",
      "Epoch 9/10\n",
      "132/132 [==============================] - 112s 847ms/step - loss: 7.6779 - acc: 0.5008 - val_loss: 15.3791 - val_acc: 0.1738\n",
      "Epoch 10/10\n",
      "132/132 [==============================] - 112s 850ms/step - loss: 7.6779 - acc: 0.5008 - val_loss: 15.3791 - val_acc: 0.1738\n"
     ]
    }
   ],
   "source": [
    "VALIDATION_DIR = \"C:\\\\Users\\\\snehal\\\\Desktop\\\\face mask code\\\\test\\\\test\"\n",
    "validation_datagen = ImageDataGenerator(rescale=1.0/255)\n",
    "\n",
    "validation_generator = validation_datagen.flow_from_directory(VALIDATION_DIR, \n",
    "                                                         batch_size=10, \n",
    "                                                         target_size=(150, 150))\n",
    "checkpoint = ModelCheckpoint('model2-{epoch:03d}.model',monitor='val_loss',verbose=0,save_best_only=True,mode='auto')\n",
    "\n",
    "\n",
    "history = model.fit_generator(train_generator,\n",
    "                              epochs=10,\n",
    "                              validation_data=validation_generator,\n",
    "                              callbacks=[checkpoint])"
   ]
  },
  {
   "cell_type": "code",
   "execution_count": 6,
   "metadata": {
    "colab": {
     "background_save": true
    },
    "id": "y5ua2vR-qGtZ",
    "outputId": "046ec55a-1084-4da3-ca07-5605e775732f"
   },
   "outputs": [],
   "source": [
    "model.save(\"Mymodel\")\n"
   ]
  },
  {
   "cell_type": "code",
   "execution_count": null,
   "metadata": {},
   "outputs": [],
   "source": []
  }
 ],
 "metadata": {
  "colab": {
   "authorship_tag": "ABX9TyMZf7NIZ7mjPplH9zsCHOl7",
   "collapsed_sections": [],
   "name": "trainingmask.ipynb",
   "provenance": []
  },
  "kernelspec": {
   "display_name": "Python 3",
   "language": "python",
   "name": "python3"
  },
  "language_info": {
   "codemirror_mode": {
    "name": "ipython",
    "version": 3
   },
   "file_extension": ".py",
   "mimetype": "text/x-python",
   "name": "python",
   "nbconvert_exporter": "python",
   "pygments_lexer": "ipython3",
   "version": "3.7.3"
  }
 },
 "nbformat": 4,
 "nbformat_minor": 1
}
